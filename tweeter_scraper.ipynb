{
  "nbformat": 4,
  "nbformat_minor": 0,
  "metadata": {
    "colab": {
      "provenance": [],
      "authorship_tag": "ABX9TyOKNefDTw7u2O4kIpz+Zox6",
      "include_colab_link": true
    },
    "kernelspec": {
      "name": "python3",
      "display_name": "Python 3"
    },
    "language_info": {
      "name": "python"
    }
  },
  "cells": [
    {
      "cell_type": "markdown",
      "metadata": {
        "id": "view-in-github",
        "colab_type": "text"
      },
      "source": [
        "<a href=\"https://colab.research.google.com/github/diproy11/Tweeter_Scrsper_snscrap/blob/main/tweeter_scraper.ipynb\" target=\"_parent\"><img src=\"https://colab.research.google.com/assets/colab-badge.svg\" alt=\"Open In Colab\"/></a>"
      ]
    },
    {
      "cell_type": "code",
      "execution_count": 1,
      "metadata": {
        "colab": {
          "base_uri": "https://localhost:8080/"
        },
        "id": "Bv9MhcR-Rq6y",
        "outputId": "143f153d-be28-4d21-c7f6-959608bcfb9c"
      },
      "outputs": [
        {
          "output_type": "stream",
          "name": "stdout",
          "text": [
            "Looking in indexes: https://pypi.org/simple, https://us-python.pkg.dev/colab-wheels/public/simple/\n",
            "Collecting snscrape\n",
            "  Downloading snscrape-0.6.2.20230320-py3-none-any.whl (71 kB)\n",
            "\u001b[2K     \u001b[90m━━━━━━━━━━━━━━━━━━━━━━━━━━━━━━━━━━━━━━━━\u001b[0m \u001b[32m71.8/71.8 kB\u001b[0m \u001b[31m2.5 MB/s\u001b[0m eta \u001b[36m0:00:00\u001b[0m\n",
            "\u001b[?25hRequirement already satisfied: filelock in /usr/local/lib/python3.9/dist-packages (from snscrape) (3.10.7)\n",
            "Requirement already satisfied: requests[socks] in /usr/local/lib/python3.9/dist-packages (from snscrape) (2.27.1)\n",
            "Requirement already satisfied: lxml in /usr/local/lib/python3.9/dist-packages (from snscrape) (4.9.2)\n",
            "Requirement already satisfied: beautifulsoup4 in /usr/local/lib/python3.9/dist-packages (from snscrape) (4.11.2)\n",
            "Requirement already satisfied: soupsieve>1.2 in /usr/local/lib/python3.9/dist-packages (from beautifulsoup4->snscrape) (2.4)\n",
            "Requirement already satisfied: charset-normalizer~=2.0.0 in /usr/local/lib/python3.9/dist-packages (from requests[socks]->snscrape) (2.0.12)\n",
            "Requirement already satisfied: urllib3<1.27,>=1.21.1 in /usr/local/lib/python3.9/dist-packages (from requests[socks]->snscrape) (1.26.15)\n",
            "Requirement already satisfied: certifi>=2017.4.17 in /usr/local/lib/python3.9/dist-packages (from requests[socks]->snscrape) (2022.12.7)\n",
            "Requirement already satisfied: idna<4,>=2.5 in /usr/local/lib/python3.9/dist-packages (from requests[socks]->snscrape) (3.4)\n",
            "Requirement already satisfied: PySocks!=1.5.7,>=1.5.6 in /usr/local/lib/python3.9/dist-packages (from requests[socks]->snscrape) (1.7.1)\n",
            "Installing collected packages: snscrape\n",
            "Successfully installed snscrape-0.6.2.20230320\n"
          ]
        }
      ],
      "source": [
        "!pip install snscrape"
      ]
    },
    {
      "cell_type": "code",
      "source": [
        "import snscrape.modules.twitter as sntwitter\n",
        "import pandas as pd"
      ],
      "metadata": {
        "id": "t7m4aUlbRuzY"
      },
      "execution_count": 2,
      "outputs": []
    },
    {
      "cell_type": "code",
      "source": [
        "# Scrape tweets containing the keyword \"Oreo\"\n",
        "tweets = []\n",
        "for i, tweet in enumerate(sntwitter.TwitterSearchScraper('@Oreo').get_items()):\n",
        "  tweets.append({'date': tweet.date,'content': tweet.content,'username': tweet.user.username,'retweets': tweet.retweetCount,'likes': tweet.likeCount})\n",
        "\n",
        "  if i >=20000:\n",
        "    break\n",
        "tweets_df = pd.DataFrame(tweets)\n"
      ],
      "metadata": {
        "colab": {
          "base_uri": "https://localhost:8080/"
        },
        "id": "uoNzRH_2SLbs",
        "outputId": "37d51fe0-d694-4465-bae2-a77986a7a416"
      },
      "execution_count": 3,
      "outputs": [
        {
          "output_type": "stream",
          "name": "stderr",
          "text": [
            "<ipython-input-3-3fcef1fcae68>:4: DeprecatedFeatureWarning: content is deprecated, use rawContent instead\n",
            "  tweets.append({'date': tweet.date,'content': tweet.content,'username': tweet.user.username,'retweets': tweet.retweetCount,'likes': tweet.likeCount})\n"
          ]
        },
        {
          "output_type": "stream",
          "name": "stdout",
          "text": [
            "                           date  \\\n",
            "0     2023-04-11 07:16:16+00:00   \n",
            "1     2023-04-11 04:17:31+00:00   \n",
            "2     2023-04-11 04:07:05+00:00   \n",
            "3     2023-04-11 03:47:10+00:00   \n",
            "4     2023-04-11 03:41:10+00:00   \n",
            "...                         ...   \n",
            "19996 2023-02-07 20:41:12+00:00   \n",
            "19997 2023-02-07 20:41:08+00:00   \n",
            "19998 2023-02-07 20:39:15+00:00   \n",
            "19999 2023-02-07 20:39:04+00:00   \n",
            "20000 2023-02-07 20:38:57+00:00   \n",
            "\n",
            "                                                 content      username  \\\n",
            "0       @Oreo I would really prefer a golden cakester 🫶🏾     shaaay2x_   \n",
            "1      @Oreo I want my money back 😤 https://t.co/t5hc...     Kyledooog   \n",
            "2      @RossForman1 @Oreo @IMPACTWRESTLING @WeAreRose...    JayArasate   \n",
            "3      @RossForman1 @Oreo @IMPACTWRESTLING @WeAreRose...  MrsAIPAlisha   \n",
            "4      The new Limited Edition ⁦⁦@Oreo⁩, perfect for ...   RossForman1   \n",
            "...                                                  ...           ...   \n",
            "19996  @SwedishFish @SourPatchKids @Oreo @ChipsAhoy @...  FetchRewards   \n",
            "19997  @elpws @Chriiztopha @Oreo get it for content (...   Skymography   \n",
            "19998              @officialfye we're literally innocent          Oreo   \n",
            "19999                        @7eleven ...we're listening          Oreo   \n",
            "20000    @theteddygrahams when @NutterButter unblocks us          Oreo   \n",
            "\n",
            "       retweets  likes  \n",
            "0             0      0  \n",
            "1             0      0  \n",
            "2             0      0  \n",
            "3             0      1  \n",
            "4             0     13  \n",
            "...         ...    ...  \n",
            "19996         0      2  \n",
            "19997         0      0  \n",
            "19998         4    367  \n",
            "19999         5    493  \n",
            "20000         3    540  \n",
            "\n",
            "[20001 rows x 5 columns]\n"
          ]
        }
      ]
    },
    {
      "cell_type": "code",
      "source": [
        "tweets_df.to_csv('tweeter_data.xlsx',index=False)"
      ],
      "metadata": {
        "id": "q_NipW5bSjpV"
      },
      "execution_count": 6,
      "outputs": []
    },
    {
      "cell_type": "code",
      "source": [],
      "metadata": {
        "id": "KPOHjpc1Xlyy"
      },
      "execution_count": null,
      "outputs": []
    }
  ]
}